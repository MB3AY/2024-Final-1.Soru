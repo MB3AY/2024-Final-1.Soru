{
  "metadata": {
    "kernelspec": {
      "name": "python",
      "display_name": "Python (Pyodide)",
      "language": "python"
    },
    "language_info": {
      "codemirror_mode": {
        "name": "python",
        "version": 3
      },
      "file_extension": ".py",
      "mimetype": "text/x-python",
      "name": "python",
      "nbconvert_exporter": "python",
      "pygments_lexer": "ipython3",
      "version": "3.8"
    }
  },
  "nbformat_minor": 4,
  "nbformat": 4,
  "cells": [
    {
      "cell_type": "code",
      "source": "import numpy as np\nimport pandas as pd\nfrom tabulate import tabulate\n\n# Excel dosyasınından verileri al\ndata = pd.read_excel('C:\\\\Users\\\\Meltem\\\\Desktop\\\\soru1_2_data.xlsx', header=None)\nimage = data.values",
      "metadata": {
        "trusted": true
      },
      "outputs": [
        {
          "ename": "<class 'ModuleNotFoundError'>",
          "evalue": "No module named 'tabulate'",
          "traceback": [
            "\u001b[0;31m---------------------------------------------------------------------------\u001b[0m",
            "\u001b[0;31mModuleNotFoundError\u001b[0m                       Traceback (most recent call last)",
            "Cell \u001b[0;32mIn[1], line 3\u001b[0m\n\u001b[1;32m      1\u001b[0m \u001b[38;5;28;01mimport\u001b[39;00m \u001b[38;5;21;01mnumpy\u001b[39;00m \u001b[38;5;28;01mas\u001b[39;00m \u001b[38;5;21;01mnp\u001b[39;00m\n\u001b[1;32m      2\u001b[0m \u001b[38;5;28;01mimport\u001b[39;00m \u001b[38;5;21;01mpandas\u001b[39;00m \u001b[38;5;28;01mas\u001b[39;00m \u001b[38;5;21;01mpd\u001b[39;00m\n\u001b[0;32m----> 3\u001b[0m \u001b[38;5;28;01mfrom\u001b[39;00m \u001b[38;5;21;01mtabulate\u001b[39;00m \u001b[38;5;28;01mimport\u001b[39;00m tabulate\n\u001b[1;32m      5\u001b[0m \u001b[38;5;66;03m# Excel dosyasınından verileri al\u001b[39;00m\n\u001b[1;32m      6\u001b[0m data \u001b[38;5;241m=\u001b[39m pd\u001b[38;5;241m.\u001b[39mread_excel(\u001b[38;5;124m'\u001b[39m\u001b[38;5;124mC:\u001b[39m\u001b[38;5;130;01m\\\\\u001b[39;00m\u001b[38;5;124mUsers\u001b[39m\u001b[38;5;130;01m\\\\\u001b[39;00m\u001b[38;5;124mMeltem\u001b[39m\u001b[38;5;130;01m\\\\\u001b[39;00m\u001b[38;5;124mDesktop\u001b[39m\u001b[38;5;130;01m\\\\\u001b[39;00m\u001b[38;5;124msoru1_2_data.xlsx\u001b[39m\u001b[38;5;124m'\u001b[39m, header\u001b[38;5;241m=\u001b[39m\u001b[38;5;28;01mNone\u001b[39;00m)\n",
            "\u001b[0;31mModuleNotFoundError\u001b[0m: No module named 'tabulate'"
          ],
          "output_type": "error"
        }
      ],
      "execution_count": 1
    },
    {
      "cell_type": "code",
      "source": "# Minimum ve maksimum değerleri bul\nI_min = np.min(image)\nI_max = np.max(image)\nL = 256\n\n# Contrast stretching işlemini yap\ncontrast_stretched_image = np.zeros(image.shape, dtype=np.float64)\n\nfor i in range(image.shape[0]):\n    for j in range(image.shape[1]):\n        contrast_stretched_image[i, j] = (image[i, j] - I_min) / (I_max - I_min) * (L - 1)\n",
      "metadata": {
        "trusted": true
      },
      "outputs": [
        {
          "ename": "<class 'NameError'>",
          "evalue": "name 'image' is not defined",
          "traceback": [
            "\u001b[0;31m---------------------------------------------------------------------------\u001b[0m",
            "\u001b[0;31mNameError\u001b[0m                                 Traceback (most recent call last)",
            "Cell \u001b[0;32mIn[2], line 2\u001b[0m\n\u001b[1;32m      1\u001b[0m \u001b[38;5;66;03m# Minimum ve maksimum değerleri bul\u001b[39;00m\n\u001b[0;32m----> 2\u001b[0m I_min \u001b[38;5;241m=\u001b[39m np\u001b[38;5;241m.\u001b[39mmin(\u001b[43mimage\u001b[49m)\n\u001b[1;32m      3\u001b[0m I_max \u001b[38;5;241m=\u001b[39m np\u001b[38;5;241m.\u001b[39mmax(image)\n\u001b[1;32m      4\u001b[0m L \u001b[38;5;241m=\u001b[39m \u001b[38;5;241m256\u001b[39m\n",
            "\u001b[0;31mNameError\u001b[0m: name 'image' is not defined"
          ],
          "output_type": "error"
        }
      ],
      "execution_count": 2
    },
    {
      "cell_type": "code",
      "source": "# Sonuçları tablo olarak yazdır\ncontrast_stretched_df = pd.DataFrame(contrast_stretched_image)\n# Tabulate kullanarak tablo çıktısını yazdır\nprint(\"Contrast Stretched Image:\")\nprint(tabulate(contrast_stretched_df, headers='keys', tablefmt='grid'))\n",
      "metadata": {
        "trusted": true
      },
      "outputs": [
        {
          "ename": "<class 'NameError'>",
          "evalue": "name 'contrast_stretched_image' is not defined",
          "traceback": [
            "\u001b[0;31m---------------------------------------------------------------------------\u001b[0m",
            "\u001b[0;31mNameError\u001b[0m                                 Traceback (most recent call last)",
            "Cell \u001b[0;32mIn[3], line 2\u001b[0m\n\u001b[1;32m      1\u001b[0m \u001b[38;5;66;03m# Sonuçları tablo olarak yazdır\u001b[39;00m\n\u001b[0;32m----> 2\u001b[0m contrast_stretched_df \u001b[38;5;241m=\u001b[39m pd\u001b[38;5;241m.\u001b[39mDataFrame(\u001b[43mcontrast_stretched_image\u001b[49m)\n\u001b[1;32m      3\u001b[0m \u001b[38;5;66;03m# Tabulate kullanarak tablo çıktısını yazdır\u001b[39;00m\n\u001b[1;32m      4\u001b[0m \u001b[38;5;28mprint\u001b[39m(\u001b[38;5;124m\"\u001b[39m\u001b[38;5;124mContrast Stretched Image:\u001b[39m\u001b[38;5;124m\"\u001b[39m)\n",
            "\u001b[0;31mNameError\u001b[0m: name 'contrast_stretched_image' is not defined"
          ],
          "output_type": "error"
        }
      ],
      "execution_count": 3
    }
  ]
}